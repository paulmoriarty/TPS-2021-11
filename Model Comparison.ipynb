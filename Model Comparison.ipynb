{
 "cells": [
  {
   "cell_type": "markdown",
   "metadata": {
    "_cell_guid": "b1076dfc-b9ad-4769-8c92-a6c4dae69d19",
    "_uuid": "8f2839f25d086af736a60e9eeb907d3b93b6e0e5"
   },
   "source": [
    "## About Tabular Playground Series - Oct 2021\n",
    "\n",
    "The dataset used for this competition is synthetic, but based on a real dataset and generated using a CTGAN.\n",
    "\n",
    "The dataset deals with predicting the biological response of molecules given various chemical properties. Although the features are anonymized, they have properties relating to real-world features.\n",
    "\n",
    "## Previous notebooks\n",
    "\n",
    "My first notebook on this competition explored the data in detail. At this point that notebook has had 38 upvotes and 15 comments, so might be worth a look before moving on to look at this notebook if you have not yet explored the data fully.\n",
    "https://www.kaggle.com/davidcoxon/first-look-at-october-data\n",
    "\n",
    "## About this notebook\n",
    "\n",
    "This notebook is a work in progress and will be regularly updated. It is my second notebook of this competition and will concentrate on evaluating the performance of a number of basic models creating a baseline for future notebooks that will concentrate on parameter tuning the models the best performing models. This is a beginner level notebook meant for my own use and not indended to be a training aid or tutorial. Some of the code will be taken from other public notebooks, sources will be creditted at the bottom of the notebook.\n",
    "\n",
    "## About this notebook\n",
    "https://www.kaggle.com/davidcoxon/first-look-at-october-data\n",
    "\n",
    "## First thoughts on this months project\n",
    "\n",
    "* This months Tabular Playground Dataset is once again quite large, so managing both cpu usage and ram is going to be an important element of the project.\n",
    "* It looks like another classification problem.\n",
    "* There is no missing data, so imputing values will not be required.\n",
    "* There a both categorical and continuous features. The categorical data is all binary and some of the continuous data appears to be category like. It may be possible to reduce the memory requirements by redefining data types in order to minimize memory use without lossing any meaningful information.\n",
    "* Data engineering and feature importance may be important.\n",
    "* Its likely that model selection and hyper parameter tuning will be important.\n",
    "* Staking, blending and ensambles are likely to be important to get higher scores.\n",
    "\n",
    "## Exploring the data\n",
    "\n",
    "You can find a complete exploration of the data this notebook: https://www.kaggle.com/davidcoxon/first-look-at-october-data/notebook\n",
    "\n",
    "The summary of the data exploration is:\n",
    "\n",
    "* The test dataset is approx 1/2 the size of the training dataset\n",
    "* The training dataset is highly representative of the test dataset\n",
    "* There is no missing data\n",
    "* Approx 1/6th of features are binary features\n",
    "* Approx 5/6th of features are continuous features\n",
    "* There is relatively low correlation between features\n",
    "* There appears to be a relatively high correlation between f22 and target value.\n",
    "* The majority of categorical features have a negative correlation to target classification.\n",
    "* Continuous feature have show both positive and negative correlations to target classification.\n",
    "* feature importance indicates that there are a number of both categorical and continuous features of importance.\n",
    "* feature importance doesn't indicate f22 as an important feature."
   ]
  },
  {
   "cell_type": "markdown",
   "metadata": {},
   "source": [
    "## Set up environment"
   ]
  },
  {
   "cell_type": "code",
   "execution_count": 1,
   "metadata": {
    "execution": {
     "iopub.execute_input": "2021-11-10T16:40:36.542837Z",
     "iopub.status.busy": "2021-11-10T16:40:36.542461Z",
     "iopub.status.idle": "2021-11-10T16:40:43.004475Z",
     "shell.execute_reply": "2021-11-10T16:40:43.003415Z",
     "shell.execute_reply.started": "2021-11-10T16:40:36.542741Z"
    },
    "tags": []
   },
   "outputs": [],
   "source": [
    "import os, psutil\n",
    "import gc\n",
    "import numpy as np\n",
    "import pandas as pd\n",
    "from statsmodels.graphics.mosaicplot import mosaic\n",
    "from scipy.stats import randint\n",
    "import matplotlib.pyplot as plt\n",
    "import seaborn as sns\n",
    "import platform\n",
    "\n",
    "%matplotlib inline\n",
    "\n",
    "import warnings\n",
    "\n",
    "warnings.filterwarnings(\"ignore\")\n",
    "\n",
    "from sklearn import (\n",
    "    ensemble,\n",
    "    linear_model,\n",
    "    metrics,\n",
    "    model_selection,\n",
    "    neighbors,\n",
    "    preprocessing,\n",
    "    svm,\n",
    "    tree,\n",
    ")\n",
    "from sklearn.decomposition import PCA\n",
    "from sklearn.discriminant_analysis import LinearDiscriminantAnalysis\n",
    "from sklearn.ensemble import RandomForestRegressor, RandomForestClassifier\n",
    "from sklearn.feature_selection import mutual_info_regression\n",
    "from sklearn.impute import SimpleImputer\n",
    "from sklearn.metrics import (\n",
    "    classification_report,\n",
    "    accuracy_score,\n",
    "    log_loss,\n",
    "    roc_auc_score,\n",
    ")\n",
    "from sklearn.model_selection import (\n",
    "    cross_validate,\n",
    "    cross_val_score,\n",
    "    train_test_split,\n",
    "    KFold,\n",
    "    GridSearchCV,\n",
    ")\n",
    "from sklearn.preprocessing import MinMaxScaler, StandardScaler, RobustScaler, Normalizer\n",
    "\n",
    "from sklearn.ensemble import (\n",
    "    AdaBoostClassifier,\n",
    "    BaggingClassifier,\n",
    "    ExtraTreesClassifier,\n",
    "    GradientBoostingClassifier,\n",
    "    RandomForestClassifier,\n",
    "    VotingClassifier,\n",
    ")\n",
    "from sklearn.linear_model import (\n",
    "    LogisticRegression,\n",
    "    Perceptron,\n",
    "    SGDClassifier,\n",
    "    LogisticRegression,\n",
    "    PassiveAggressiveClassifier,\n",
    "    RidgeClassifierCV,\n",
    ")\n",
    "from sklearn.multiclass import OneVsRestClassifier\n",
    "from sklearn.naive_bayes import GaussianNB\n",
    "from sklearn.neighbors import KNeighborsClassifier\n",
    "from sklearn.neural_network import MLPClassifier\n",
    "from sklearn.model_selection import GridSearchCV\n",
    "from sklearn.svm import SVC, LinearSVC\n",
    "from sklearn.tree import DecisionTreeClassifier\n",
    "from sklearn import ensemble, linear_model, neighbors, svm, tree\n",
    "from scipy.stats import randint\n",
    "from lightgbm import LGBMClassifier\n",
    "from catboost import CatBoostClassifier\n",
    "from xgboost import XGBClassifier\n",
    "from datetime import datetime\n",
    "\n",
    "pd.set_option(\"display.max_rows\", None)\n",
    "pd.set_option(\"display.max_columns\", None)\n",
    "\n",
    "for dirname, _, filenames in os.walk(\"/kaggle/input\"):\n",
    "    for filename in filenames:\n",
    "        print(os.path.join(dirname, filename))"
   ]
  },
  {
   "cell_type": "markdown",
   "metadata": {
    "execution": {
     "iopub.execute_input": "2021-10-07T02:17:26.652443Z",
     "iopub.status.busy": "2021-10-07T02:17:26.652061Z",
     "iopub.status.idle": "2021-10-07T02:17:26.656859Z",
     "shell.execute_reply": "2021-10-07T02:17:26.65586Z",
     "shell.execute_reply.started": "2021-10-07T02:17:26.652405Z"
    }
   },
   "source": [
    "## Create functions"
   ]
  },
  {
   "cell_type": "code",
   "execution_count": 15,
   "metadata": {
    "execution": {
     "iopub.execute_input": "2021-11-10T17:13:56.901998Z",
     "iopub.status.busy": "2021-11-10T17:13:56.901638Z",
     "iopub.status.idle": "2021-11-10T17:15:17.173121Z",
     "shell.execute_reply": "2021-11-10T17:15:17.172152Z",
     "shell.execute_reply.started": "2021-11-10T17:13:56.901957Z"
    },
    "tags": []
   },
   "outputs": [
    {
     "data": {
      "text/html": [
       "<div>\n",
       "<style scoped>\n",
       "    .dataframe tbody tr th:only-of-type {\n",
       "        vertical-align: middle;\n",
       "    }\n",
       "\n",
       "    .dataframe tbody tr th {\n",
       "        vertical-align: top;\n",
       "    }\n",
       "\n",
       "    .dataframe thead th {\n",
       "        text-align: right;\n",
       "    }\n",
       "</style>\n",
       "<table border=\"1\" class=\"dataframe\">\n",
       "  <thead>\n",
       "    <tr style=\"text-align: right;\">\n",
       "      <th></th>\n",
       "      <th>0</th>\n",
       "      <th>1</th>\n",
       "      <th>2</th>\n",
       "      <th>3</th>\n",
       "      <th>4</th>\n",
       "      <th>5</th>\n",
       "      <th>6</th>\n",
       "      <th>7</th>\n",
       "      <th>8</th>\n",
       "      <th>9</th>\n",
       "      <th>mean</th>\n",
       "      <th>std</th>\n",
       "    </tr>\n",
       "  </thead>\n",
       "  <tbody>\n",
       "    <tr>\n",
       "      <th>fit_time</th>\n",
       "      <td>8.317560</td>\n",
       "      <td>7.334537</td>\n",
       "      <td>7.469930</td>\n",
       "      <td>7.460337</td>\n",
       "      <td>7.525170</td>\n",
       "      <td>7.600137</td>\n",
       "      <td>7.894091</td>\n",
       "      <td>7.494171</td>\n",
       "      <td>7.635662</td>\n",
       "      <td>7.377396</td>\n",
       "      <td>7.610899</td>\n",
       "      <td>0.278337</td>\n",
       "    </tr>\n",
       "    <tr>\n",
       "      <th>score_time</th>\n",
       "      <td>0.033668</td>\n",
       "      <td>0.036698</td>\n",
       "      <td>0.036645</td>\n",
       "      <td>0.036902</td>\n",
       "      <td>0.035247</td>\n",
       "      <td>0.036187</td>\n",
       "      <td>0.045115</td>\n",
       "      <td>0.040295</td>\n",
       "      <td>0.039715</td>\n",
       "      <td>0.036984</td>\n",
       "      <td>0.037746</td>\n",
       "      <td>0.003059</td>\n",
       "    </tr>\n",
       "    <tr>\n",
       "      <th>test_roc_auc</th>\n",
       "      <td>0.748789</td>\n",
       "      <td>0.747137</td>\n",
       "      <td>0.747059</td>\n",
       "      <td>0.749731</td>\n",
       "      <td>0.750118</td>\n",
       "      <td>0.751455</td>\n",
       "      <td>0.751739</td>\n",
       "      <td>0.742858</td>\n",
       "      <td>0.747864</td>\n",
       "      <td>0.749326</td>\n",
       "      <td>0.748608</td>\n",
       "      <td>0.002453</td>\n",
       "    </tr>\n",
       "    <tr>\n",
       "      <th>train_roc_auc</th>\n",
       "      <td>0.748831</td>\n",
       "      <td>0.749055</td>\n",
       "      <td>0.749040</td>\n",
       "      <td>0.748740</td>\n",
       "      <td>0.748717</td>\n",
       "      <td>0.748551</td>\n",
       "      <td>0.748524</td>\n",
       "      <td>0.749491</td>\n",
       "      <td>0.748944</td>\n",
       "      <td>0.748793</td>\n",
       "      <td>0.748869</td>\n",
       "      <td>0.000269</td>\n",
       "    </tr>\n",
       "  </tbody>\n",
       "</table>\n",
       "</div>"
      ],
      "text/plain": [
       "                      0         1         2         3         4         5  \\\n",
       "fit_time       8.317560  7.334537  7.469930  7.460337  7.525170  7.600137   \n",
       "score_time     0.033668  0.036698  0.036645  0.036902  0.035247  0.036187   \n",
       "test_roc_auc   0.748789  0.747137  0.747059  0.749731  0.750118  0.751455   \n",
       "train_roc_auc  0.748831  0.749055  0.749040  0.748740  0.748717  0.748551   \n",
       "\n",
       "                      6         7         8         9      mean       std  \n",
       "fit_time       7.894091  7.494171  7.635662  7.377396  7.610899  0.278337  \n",
       "score_time     0.045115  0.040295  0.039715  0.036984  0.037746  0.003059  \n",
       "test_roc_auc   0.751739  0.742858  0.747864  0.749326  0.748608  0.002453  \n",
       "train_roc_auc  0.748524  0.749491  0.748944  0.748793  0.748869  0.000269  "
      ]
     },
     "execution_count": 15,
     "metadata": {},
     "output_type": "execute_result"
    }
   ],
   "source": [
    "score(X_train, y_train, LinearDiscriminantAnalysis(), 10)"
   ]
  },
  {
   "cell_type": "code",
   "execution_count": 14,
   "metadata": {
    "execution": {
     "iopub.execute_input": "2021-11-10T17:11:05.229823Z",
     "iopub.status.busy": "2021-11-10T17:11:05.229441Z",
     "iopub.status.idle": "2021-11-10T17:11:12.313751Z",
     "shell.execute_reply": "2021-11-10T17:11:12.312744Z",
     "shell.execute_reply.started": "2021-11-10T17:11:05.229782Z"
    }
   },
   "outputs": [
    {
     "data": {
      "text/html": [
       "<div>\n",
       "<style scoped>\n",
       "    .dataframe tbody tr th:only-of-type {\n",
       "        vertical-align: middle;\n",
       "    }\n",
       "\n",
       "    .dataframe tbody tr th {\n",
       "        vertical-align: top;\n",
       "    }\n",
       "\n",
       "    .dataframe thead th {\n",
       "        text-align: right;\n",
       "    }\n",
       "</style>\n",
       "<table border=\"1\" class=\"dataframe\">\n",
       "  <thead>\n",
       "    <tr style=\"text-align: right;\">\n",
       "      <th></th>\n",
       "      <th>0</th>\n",
       "      <th>1</th>\n",
       "      <th>2</th>\n",
       "      <th>3</th>\n",
       "      <th>4</th>\n",
       "      <th>mean</th>\n",
       "      <th>std</th>\n",
       "    </tr>\n",
       "  </thead>\n",
       "  <tbody>\n",
       "    <tr>\n",
       "      <th>fit_time</th>\n",
       "      <td>0.974654</td>\n",
       "      <td>0.970560</td>\n",
       "      <td>0.947118</td>\n",
       "      <td>0.957324</td>\n",
       "      <td>1.119990</td>\n",
       "      <td>0.993929</td>\n",
       "      <td>0.063781</td>\n",
       "    </tr>\n",
       "    <tr>\n",
       "      <th>score_time</th>\n",
       "      <td>0.082443</td>\n",
       "      <td>0.078001</td>\n",
       "      <td>0.078358</td>\n",
       "      <td>0.081560</td>\n",
       "      <td>0.080351</td>\n",
       "      <td>0.080143</td>\n",
       "      <td>0.001739</td>\n",
       "    </tr>\n",
       "    <tr>\n",
       "      <th>test_roc_auc</th>\n",
       "      <td>0.533730</td>\n",
       "      <td>0.536585</td>\n",
       "      <td>0.537449</td>\n",
       "      <td>0.539381</td>\n",
       "      <td>0.538178</td>\n",
       "      <td>0.537064</td>\n",
       "      <td>0.001903</td>\n",
       "    </tr>\n",
       "    <tr>\n",
       "      <th>train_roc_auc</th>\n",
       "      <td>0.537899</td>\n",
       "      <td>0.537186</td>\n",
       "      <td>0.536970</td>\n",
       "      <td>0.536486</td>\n",
       "      <td>0.536790</td>\n",
       "      <td>0.537066</td>\n",
       "      <td>0.000475</td>\n",
       "    </tr>\n",
       "  </tbody>\n",
       "</table>\n",
       "</div>"
      ],
      "text/plain": [
       "                      0         1         2         3         4      mean  \\\n",
       "fit_time       0.974654  0.970560  0.947118  0.957324  1.119990  0.993929   \n",
       "score_time     0.082443  0.078001  0.078358  0.081560  0.080351  0.080143   \n",
       "test_roc_auc   0.533730  0.536585  0.537449  0.539381  0.538178  0.537064   \n",
       "train_roc_auc  0.537899  0.537186  0.536970  0.536486  0.536790  0.537066   \n",
       "\n",
       "                    std  \n",
       "fit_time       0.063781  \n",
       "score_time     0.001739  \n",
       "test_roc_auc   0.001903  \n",
       "train_roc_auc  0.000475  "
      ]
     },
     "execution_count": 14,
     "metadata": {},
     "output_type": "execute_result"
    }
   ],
   "source": [
    "score(X_train, y_train, LogisticRegression(), 5)"
   ]
  },
  {
   "cell_type": "code",
   "execution_count": 2,
   "metadata": {
    "execution": {
     "iopub.execute_input": "2021-11-10T16:40:43.007229Z",
     "iopub.status.busy": "2021-11-10T16:40:43.006923Z",
     "iopub.status.idle": "2021-11-10T16:40:43.029690Z",
     "shell.execute_reply": "2021-11-10T16:40:43.028520Z",
     "shell.execute_reply.started": "2021-11-10T16:40:43.007189Z"
    },
    "tags": []
   },
   "outputs": [],
   "source": [
    "# def cpu_stats():\n",
    "#     pid = os.getpid()\n",
    "#     py = psutil.Process(pid)\n",
    "#     memory_use = py.memory_info()[0] / 2.0 ** 30\n",
    "#     return \"memory GB:\" + str(np.round(memory_use, 2))\n",
    "\n",
    "\n",
    "def score(X, y, model, cv):\n",
    "    scoring = [\"roc_auc\"]\n",
    "    scores = cross_validate(\n",
    "        model,\n",
    "        X_train,\n",
    "        y_train,\n",
    "        scoring=scoring,\n",
    "        cv=cv,\n",
    "        return_train_score=True,\n",
    "    )\n",
    "    scores = pd.DataFrame(scores).T\n",
    "    return scores.assign(\n",
    "        mean=lambda x: x.mean(axis=1),\n",
    "        std=lambda x: x.std(axis=1),\n",
    "    )\n",
    "\n",
    "\n",
    "def reduce_memory_usage(df, verbose=False):\n",
    "    numerics = [\n",
    "        \"int8\",\n",
    "        \"int16\",\n",
    "        \"int32\",\n",
    "        \"int64\",\n",
    "        \"float16\",\n",
    "        \"float32\",\n",
    "        \"float64\",\n",
    "    ]\n",
    "    start_mem = df.memory_usage().sum() / 1024 ** 2\n",
    "    for col in df.columns:\n",
    "        col_type = df[col].dtypes\n",
    "        if col_type in numerics:\n",
    "            c_min = df[col].min()\n",
    "            c_max = df[col].max()\n",
    "            if str(col_type)[:3] == \"int\":\n",
    "                if (\n",
    "                    c_min > np.iinfo(np.int8).min\n",
    "                    and c_max < np.iinfo(np.int8).max\n",
    "                ):\n",
    "                    df[col] = df[col].astype(np.int8)\n",
    "                elif (\n",
    "                    c_min > np.iinfo(np.int16).min\n",
    "                    and c_max < np.iinfo(np.int16).max\n",
    "                ):\n",
    "                    df[col] = df[col].astype(np.int16)\n",
    "                elif (\n",
    "                    c_min > np.iinfo(np.int32).min\n",
    "                    and c_max < np.iinfo(np.int32).max\n",
    "                ):\n",
    "                    df[col] = df[col].astype(np.int32)\n",
    "                elif (\n",
    "                    c_min > np.iinfo(np.int64).min\n",
    "                    and c_max < np.iinfo(np.int64).max\n",
    "                ):\n",
    "                    df[col] = df[col].astype(np.int64)\n",
    "            else:\n",
    "                if (\n",
    "                    c_min > np.finfo(np.float16).min\n",
    "                    and c_max < np.finfo(np.float16).max\n",
    "                ):\n",
    "                    df[col] = df[col].astype(np.float16)\n",
    "                elif (\n",
    "                    c_min > np.finfo(np.float32).min\n",
    "                    and c_max < np.finfo(np.float32).max\n",
    "                ):\n",
    "                    df[col] = df[col].astype(np.float32)\n",
    "                else:\n",
    "                    df[col] = df[col].astype(np.float64)\n",
    "    end_mem = df.memory_usage().sum() / 1024 ** 2\n",
    "    if verbose:\n",
    "        print(\n",
    "            \"Mem. usage decreased to {:.2f} Mb ({:.1f}% reduction)\".format(\n",
    "                end_mem, 100 * (start_mem - end_mem) / start_mem\n",
    "            )\n",
    "        )\n",
    "    return df\n",
    "\n",
    "now = lambda: datetime.now().strftime(\"%Y-%m-%dT%Hh%Mm%Ss\")"
   ]
  },
  {
   "cell_type": "markdown",
   "metadata": {},
   "source": [
    "## Get Data"
   ]
  },
  {
   "cell_type": "code",
   "execution_count": 3,
   "metadata": {
    "execution": {
     "iopub.execute_input": "2021-11-10T16:40:43.032848Z",
     "iopub.status.busy": "2021-11-10T16:40:43.032546Z",
     "iopub.status.idle": "2021-11-10T16:40:43.038497Z",
     "shell.execute_reply": "2021-11-10T16:40:43.037491Z",
     "shell.execute_reply.started": "2021-11-10T16:40:43.032808Z"
    },
    "tags": []
   },
   "outputs": [],
   "source": [
    "running_on = platform.system()\n",
    "\n",
    "\n",
    "if running_on == \"Darwin\":  # I'm a Mac\n",
    "    drive_path = \"/Users/pmm/My Drive/Colab Notebooks/TPS 2021-11\"\n",
    "elif running_on == \"Windows\":  # I'm a PC\n",
    "    drive_path = r\"C:\\Users\\pmm\\My Drive\\Colab Notebooks\\TPS 2021-11\"\n",
    "elif \"google.colab\" in str(get_ipython()):\n",
    "    drive_path = \"/content\"\n",
    "\n",
    "path = drive_path\n",
    "now = lambda: datetime.now().strftime(\"%Y-%m-%dT%Hh%Mm%Ss\")"
   ]
  },
  {
   "cell_type": "code",
   "execution_count": 4,
   "metadata": {
    "execution": {
     "iopub.execute_input": "2021-11-10T16:40:45.718192Z",
     "iopub.status.busy": "2021-11-10T16:40:45.717724Z",
     "iopub.status.idle": "2021-11-10T16:41:04.718280Z",
     "shell.execute_reply": "2021-11-10T16:41:04.717255Z",
     "shell.execute_reply.started": "2021-11-10T16:40:45.718141Z"
    },
    "tags": []
   },
   "outputs": [
    {
     "name": "stdout",
     "output_type": "stream",
     "text": [
      "Mem. usage decreased to 117.30 Mb (74.9% reduction)\n",
      "Mem. usage decreased to 105.06 Mb (74.8% reduction)\n"
     ]
    }
   ],
   "source": [
    "# Get data\n",
    "train = pd.read_feather(os.path.join(drive_path, \"train.feather\"))\n",
    "test = pd.read_feather(os.path.join(drive_path, \"test.feather\"))\n",
    "\n",
    "train = reduce_memory_usage(train, verbose=True)\n",
    "test = reduce_memory_usage(test, verbose=True)\n",
    "# print(cpu_stats())\n",
    "\n",
    "# plt.pie(\n",
    "#     [len(train), len(test)],\n",
    "#     labels=[\"train\", \"test\"],\n",
    "#     colors=[\"skyblue\", \"blue\"],\n",
    "#     textprops={\"fontsize\": 13},\n",
    "#     autopct=\"%1.1f%%\",\n",
    "# )\n",
    "# plt.show()"
   ]
  },
  {
   "cell_type": "markdown",
   "metadata": {},
   "source": [
    "## Get features"
   ]
  },
  {
   "cell_type": "code",
   "execution_count": 5,
   "metadata": {
    "execution": {
     "iopub.execute_input": "2021-11-10T16:41:04.720999Z",
     "iopub.status.busy": "2021-11-10T16:41:04.720577Z",
     "iopub.status.idle": "2021-11-10T16:41:04.792522Z",
     "shell.execute_reply": "2021-11-10T16:41:04.791453Z",
     "shell.execute_reply.started": "2021-11-10T16:41:04.720954Z"
    },
    "tags": []
   },
   "outputs": [],
   "source": [
    "cols = test.columns\n",
    "features = [f for f in cols]\n",
    "cat_features = [f for f in cols if test.dtypes[f] == \"int8\"]\n",
    "cont_features = [f for f in cols if test.dtypes[f] == \"float16\"]\n",
    "\n",
    "# for feature in test.columns:\n",
    "#     features.append(feature)\n",
    "#     if test.dtypes[feature] == \"int8\":\n",
    "#         cat_features.append(feature)\n",
    "#     if test.dtypes[feature] == \"float16\":\n",
    "#         cont_features.append(feature)\n",
    "#     # print(test.dtypes[feature])\n",
    "# print(\"features obtained\")\n",
    "\n",
    "# plt.pie(\n",
    "#     [len(cat_features), len(cont_features)],\n",
    "#     labels=[\"Categorical\", \"Continuous\"],\n",
    "#     colors=[\"skyblue\", \"blue\"],\n",
    "#     textprops={\"fontsize\": 13},\n",
    "#     autopct=\"%1.1f%%\",\n",
    "# )\n",
    "# plt.show()\n",
    "\n",
    "# # get list of columns with high correlations\n",
    "# thresh = 0.5\n",
    "# corr = train[cont_features].corr().abs()\n",
    "# high_corr = np.where(corr > 0.5)\n",
    "# high_corr = [\n",
    "#     (corr.columns[x], corr.columns[y])\n",
    "#     for x, y in zip(*high_corr)\n",
    "#     if x != y and x < y\n",
    "# ]\n",
    "# print(\"initial correlations calculated\")\n",
    "# print(\"high correlation \\n\", high_corr)\n",
    "# high_corr_features = []\n",
    "# for x in high_corr:\n",
    "#     for item in x:\n",
    "#         if item not in high_corr_features:\n",
    "#             high_corr_features.append(item)\n",
    "# corr_matrix = train[high_corr_features].corr()\n",
    "# print(\"high correlations calculated\")"
   ]
  },
  {
   "cell_type": "markdown",
   "metadata": {},
   "source": [
    "## Add statistical features"
   ]
  },
  {
   "cell_type": "code",
   "execution_count": null,
   "metadata": {
    "tags": []
   },
   "outputs": [],
   "source": [
    "# # add std field\n",
    "\n",
    "# if \"Std\" in train.columns:\n",
    "#     print(\"Std training feature exists\")\n",
    "# else:\n",
    "#     train[\"std\"] = train[cont_features].std(axis=1)\n",
    "#     print(\"Std training feature added\")\n",
    "\n",
    "# if \"Std\" in test.columns:\n",
    "#     print(\"Std test feature exists\")\n",
    "# else:\n",
    "#     test[\"std\"] = test[cont_features].std(axis=1)\n",
    "#     print(\"Std test feature added\")\n",
    "\n",
    "# # add abs_sum field\n",
    "# if \"abs_sum\" in train.columns:\n",
    "#     print(\"Abs_sum training feature exists\")\n",
    "# else:\n",
    "#     train[\"abs_sum\"] = train[cont_features].abs().sum(axis=1)\n",
    "#     print(\"Abs_sum training feature added\")\n",
    "\n",
    "# if \"abs_sum\" in test.columns:\n",
    "#     print(\"Abs_sum test feature exists\")\n",
    "# else:\n",
    "#     test[\"abs_sum\"] = test[cont_features].abs().sum(axis=1)\n",
    "#     print(\"Abs_sum test feature added\")"
   ]
  },
  {
   "cell_type": "markdown",
   "metadata": {},
   "source": [
    "## Scale data"
   ]
  },
  {
   "cell_type": "code",
   "execution_count": 6,
   "metadata": {
    "execution": {
     "iopub.execute_input": "2021-11-10T16:41:04.795786Z",
     "iopub.status.busy": "2021-11-10T16:41:04.795472Z",
     "iopub.status.idle": "2021-11-10T16:41:10.285091Z",
     "shell.execute_reply": "2021-11-10T16:41:10.284038Z",
     "shell.execute_reply.started": "2021-11-10T16:41:04.795744Z"
    },
    "tags": []
   },
   "outputs": [],
   "source": [
    "# select scaler (remark out the options you don't want to use)\n",
    "# scaler = StandardScaler()\n",
    "scaler = RobustScaler()\n",
    "# scaler = MinMaxScaler()\n",
    "train[cont_features] = scaler.fit_transform(train[cont_features])\n",
    "test[cont_features] = scaler.transform(test[cont_features])\n",
    "\n",
    "# # print(\"Data scaled using : \", scaler)"
   ]
  },
  {
   "cell_type": "markdown",
   "metadata": {},
   "source": [
    "## Normalize data"
   ]
  },
  {
   "cell_type": "code",
   "execution_count": null,
   "metadata": {},
   "outputs": [],
   "source": [
    "# norm = Normalizer()\n",
    "# train[cont_features] = norm.fit_transform(train[cont_features])\n",
    "# test[cont_features] = norm.transform(test[cont_features])"
   ]
  },
  {
   "cell_type": "code",
   "execution_count": 7,
   "metadata": {
    "execution": {
     "iopub.execute_input": "2021-11-10T16:41:10.287831Z",
     "iopub.status.busy": "2021-11-10T16:41:10.287522Z",
     "iopub.status.idle": "2021-11-10T16:41:10.295843Z",
     "shell.execute_reply": "2021-11-10T16:41:10.294861Z",
     "shell.execute_reply.started": "2021-11-10T16:41:10.287790Z"
    }
   },
   "outputs": [],
   "source": [
    "# Create an empty dataframe for performance results\n",
    "scores_df = pd.DataFrame(columns=[\"Score\"])\n",
    "# print(\"Dataframe created\")"
   ]
  },
  {
   "cell_type": "markdown",
   "metadata": {},
   "source": [
    "## Prepare data for modeling\n",
    "\n",
    "In this notebook we are really only exploring how different models might perform to identify some models that we'll go on to look at in more detail later. I have therefore split only 10% of the data out for training the models and 5% for testing. This allows the full notebook to run in about an hour. You can increase this to 80% / 20% if you want to test individual models more robustly but its a relatively large dataset and the session will most likely time out if you try and run all cell with 80% of the data."
   ]
  },
  {
   "cell_type": "code",
   "execution_count": 8,
   "metadata": {
    "execution": {
     "iopub.execute_input": "2021-11-10T16:41:10.298080Z",
     "iopub.status.busy": "2021-11-10T16:41:10.297783Z",
     "iopub.status.idle": "2021-11-10T16:41:11.201680Z",
     "shell.execute_reply": "2021-11-10T16:41:11.200537Z",
     "shell.execute_reply.started": "2021-11-10T16:41:10.298040Z"
    },
    "tags": []
   },
   "outputs": [],
   "source": [
    "X = train.drop(\n",
    "    [\"target\"], axis=1\n",
    ")  # [cat_features] #slice training here to explore feature reduction\n",
    "y = train.target\n",
    "# print(\"Target data separated\")\n",
    "X_train, X_val, y_train, y_val = train_test_split(X, y, random_state=53)\n",
    "# print(\"Model data split\")\n",
    "\n",
    "# plt.pie(\n",
    "#     [len(X_train), len(X_val), len(X - (len(X_train) + len(X_val)))],\n",
    "#     labels=[\"X_train\", \"y_train\", \"usused data\"],\n",
    "#     colors=[\"skyblue\", \"blue\", \"cornflowerblue\"],\n",
    "#     textprops={\"fontsize\": 13},\n",
    "#     autopct=\"%1.1f%%\",\n",
    "# )\n",
    "# plt.show()"
   ]
  },
  {
   "cell_type": "code",
   "execution_count": null,
   "metadata": {
    "tags": []
   },
   "outputs": [],
   "source": [
    "# print(cpu_stats())"
   ]
  },
  {
   "cell_type": "markdown",
   "metadata": {},
   "source": [
    "# Basic modeling\n",
    "\n",
    "Before spending time tuning models we are going to quickly take a look at how a range of basic models perform on a subset of the training data (20%) without any parameter tuning. We can then retrain and evaluate the top performing models with a bigger dataset  (80%) and tuned parameters.\n",
    "\n",
    "I could have created a list of models and simply iterated through the list fitting and scoring and generating a confusion matrix for each but i wanted to add a description of how each model worked so i've just done it long hand which makes for a longer notebook but it also allows you to run individual model independantly if you want to."
   ]
  },
  {
   "cell_type": "markdown",
   "metadata": {},
   "source": [
    "## Adaboost\n",
    "\n",
    "An AdaBoost classifier is a meta-estimator that begins by fitting a classifier on the original dataset and then fits additional copies of the classifier on the same dataset where the weights of incorrectly classified instances are adjusted such that subsequent classifiers focus more on difficult cases."
   ]
  },
  {
   "cell_type": "code",
   "execution_count": null,
   "metadata": {
    "tags": []
   },
   "outputs": [],
   "source": [
    "# Adaboost\n",
    "modelname = \"Adaboost\"\n",
    "\n",
    "adaboost = AdaBoostClassifier()\n",
    "adaboost.fit(X_train, y_train)\n",
    "y_pred = adaboost.predict(X_val)\n",
    "acc_adaboost = round(accuracy_score(y_pred, y_val) * 100, 2)\n",
    "print(acc_adaboost)\n",
    "\n",
    "# create confusion matrix\n",
    "metrics.plot_confusion_matrix(adaboost, X_val, y_val)\n",
    "plt.title(\"Confusion matrix for Adaboost model\")\n",
    "plt.grid(False)\n",
    "plt.show()\n",
    "\n",
    "try:\n",
    "    scores_df.at[modelname, \"Score\"] = acc_adaboost\n",
    "except:\n",
    "    scores_df = scores_df.append(\n",
    "        {index: modelname, \"Score\": acc_adaboost}\n",
    "    )"
   ]
  },
  {
   "cell_type": "markdown",
   "metadata": {},
   "source": [
    "## Bagging\n",
    "A Bagging classifier is an ensemble meta-estimator that fits base classifiers each on random subsets of the original dataset and then aggregate their individual predictions (either by voting or by averaging) to form a final prediction.\n",
    "\n",
    "Such a meta-estimator can typically be used as a way to reduce the variance of a black-box estimator (e.g., a decision tree)."
   ]
  },
  {
   "cell_type": "code",
   "execution_count": null,
   "metadata": {
    "tags": []
   },
   "outputs": [],
   "source": [
    "# ## bagging\n",
    "# modelname = \"Bagging\"\n",
    "# bagging = BaggingClassifier(verbose=0)\n",
    "# bagging.fit(X_train, y_train)\n",
    "# y_pred = bagging.predict(X_val)\n",
    "# acc_bagging = round(accuracy_score(y_pred, y_val) * 100, 2)\n",
    "# print(acc_bagging)\n",
    "\n",
    "# # create confusion matrix\n",
    "# metrics.plot_confusion_matrix(bagging, X_val, y_val)\n",
    "# plt.title(\"Confusion matrix for Bagging Model\")\n",
    "# plt.grid(False)\n",
    "# plt.show()\n",
    "\n",
    "# try:\n",
    "#     scores_df.at[modelname, \"Score\"] = acc_bagging\n",
    "# except:\n",
    "#     scores_df = scores_df.append({index: modelname, \"Score\": acc_bagging})"
   ]
  },
  {
   "cell_type": "markdown",
   "metadata": {},
   "source": [
    "## Catboost\n",
    "Catboost is a categorizer that used gradient boosting on decision trees.\n",
    "\n",
    "We can use CatBoost without any explicit pre-processing to convert categories into numbers. CatBoost converts categorical values into numbers using various statistics on combinations of categorical features and combinations of categorical and numerical features.\n",
    "\n",
    "It reduces the need for extensive hyper-parameter tuning and lowers the chances of overfitting also which leads to more generalized models. "
   ]
  },
  {
   "cell_type": "code",
   "execution_count": null,
   "metadata": {},
   "outputs": [],
   "source": [
    "## catboost\n",
    "modelname = \"Catboost\"\n",
    "catboost = CatBoostClassifier(verbose=0)\n",
    "catboost.fit(X_train, y_train)\n",
    "y_pred = catboost.predict(X_val)\n",
    "acc_catboost = round(accuracy_score(y_pred, y_val) * 100, 2)\n",
    "print(acc_catboost)\n",
    "\n",
    "# create confusion matrix\n",
    "metrics.plot_confusion_matrix(catboost, X_val, y_val)\n",
    "plt.title(\"Confusion matrix for catboost model\")\n",
    "plt.grid(False)\n",
    "plt.show()\n",
    "\n",
    "try:\n",
    "    scores_df.at[modelname, \"Score\"] = acc_catboost\n",
    "except:\n",
    "    scores_df = scores_df.append({index: modelname, \"Score\": acc_bagging})"
   ]
  },
  {
   "cell_type": "markdown",
   "metadata": {},
   "source": [
    "## Decision Tree\n",
    "\n",
    "A decision tree is a flowchart-like tree structure where each node represents a feature or attribute, each branch represents a decision rule, and each leaf node represents the outcome. \n",
    "\n",
    "Decision trees are considered 'white box' classifiers in that they are easy to explain/understand."
   ]
  },
  {
   "cell_type": "code",
   "execution_count": null,
   "metadata": {},
   "outputs": [],
   "source": [
    "# # Decision Tree\n",
    "# modelname = \"Decision Tree\"\n",
    "# decisiontree = DecisionTreeClassifier()\n",
    "# decisiontree.fit(X_train, y_train)\n",
    "# y_pred = decisiontree.predict(X_val)\n",
    "# acc_decisiontree = round(accuracy_score(y_pred, y_val) * 100, 2)\n",
    "# print(acc_decisiontree)\n",
    "\n",
    "# # create confusion matrix\n",
    "# metrics.plot_confusion_matrix(decisiontree, X_val, y_val)\n",
    "# plt.title(\"Confusion matrix for decision tree\")\n",
    "# plt.grid(False)\n",
    "# plt.show()\n",
    "\n",
    "# try:\n",
    "#     scores_df.at[modelname, \"Score\"] = acc_decisiontree\n",
    "# except:\n",
    "#     scores_df = scores_df.append({index: modelname, \"Score\": acc_decisiontree})"
   ]
  },
  {
   "cell_type": "markdown",
   "metadata": {},
   "source": [
    "## Extra Trees\n",
    "\n",
    "The Extra Trees classifier is based on the decision trees classifier but implements a meta estimator that fits a number of randomized decision trees (a.k.a. extra-trees) on various sub-samples of the dataset and uses averaging to improve the predictive accuracy and control over-fitting."
   ]
  },
  {
   "cell_type": "code",
   "execution_count": null,
   "metadata": {},
   "outputs": [],
   "source": [
    "# ExtraTreesClassifier\n",
    "modelname = \"Extra Trees\"\n",
    "et = ExtraTreesClassifier()\n",
    "et.fit(X_train, y_train)\n",
    "y_pred = et.predict(X_val)\n",
    "acc_et = round(accuracy_score(y_pred, y_val) * 100, 2)\n",
    "print(acc_et)\n",
    "\n",
    "# create confusion matrix\n",
    "metrics.plot_confusion_matrix(et, X_val, y_val)\n",
    "plt.title(\"Confusion matrix for Extra trees\")\n",
    "plt.grid(False)\n",
    "plt.show()\n",
    "\n",
    "try:\n",
    "    scores_df.at[modelname, \"Score\"] = acc_et\n",
    "except:\n",
    "    scores_df = scores_df.append({index: modelname, \"Score\": acc_et})"
   ]
  },
  {
   "cell_type": "markdown",
   "metadata": {},
   "source": [
    "## Gaussian Naive Bayes\n",
    "\n",
    "The naive Bayes or idiot Bayes classified works with binary (two-class) and multi-class classification problems. It's calculations for the probabilities for each hypothesis are simplified to make their calculation tractable. Rather than attempting to calculate the values of each attribute value they are assumed to be conditionally independent given the target value.\n",
    "\n",
    "Gaussian Naive Bayes is an extension of the Naive Bayes classifier which can be extended to real-valued attributes, most commonly by assuming a Gaussian distribution."
   ]
  },
  {
   "cell_type": "code",
   "execution_count": null,
   "metadata": {},
   "outputs": [],
   "source": [
    "# # Gaussian Naive Bayes\n",
    "# modelname = \"Gaussian Naive Bayes\"\n",
    "# gaussian = GaussianNB()\n",
    "# gaussian.fit(X_train, y_train)\n",
    "# y_pred = gaussian.predict(X_val)\n",
    "# acc_gaussian = round(accuracy_score(y_pred, y_val) * 100, 2)\n",
    "# print(acc_gaussian)\n",
    "\n",
    "# # create confusion matrix\n",
    "# metrics.plot_confusion_matrix(gaussian, X_val, y_val)\n",
    "# plt.title(\"Confusion matrix for gaussian\")\n",
    "# plt.grid(False)\n",
    "# plt.show()\n",
    "\n",
    "# try:\n",
    "#     scores_df.at[modelname, \"Score\"] = acc_gaussian\n",
    "# except:\n",
    "#     scores_df = scores_df.append({index: modelname, \"Score\": acc_gaussian})"
   ]
  },
  {
   "cell_type": "markdown",
   "metadata": {
    "execution": {
     "iopub.execute_input": "2021-10-08T02:56:54.285501Z",
     "iopub.status.busy": "2021-10-08T02:56:54.285179Z",
     "iopub.status.idle": "2021-10-08T02:56:54.291759Z",
     "shell.execute_reply": "2021-10-08T02:56:54.290971Z",
     "shell.execute_reply.started": "2021-10-08T02:56:54.28547Z"
    }
   },
   "source": [
    "## Gradient Boosting"
   ]
  },
  {
   "cell_type": "code",
   "execution_count": null,
   "metadata": {
    "tags": []
   },
   "outputs": [],
   "source": [
    "# Gradient Boosting Classifier\n",
    "modelname = \"Gradient Boosting\"\n",
    "gbk = GradientBoostingClassifier()\n",
    "gbk.fit(X_train, y_train)\n",
    "y_pred = gbk.predict(X_val)\n",
    "acc_gbk = round(accuracy_score(y_pred, y_val) * 100, 2)\n",
    "print(acc_gbk)\n",
    "\n",
    "# create confusion matrix\n",
    "metrics.plot_confusion_matrix(gbk, X_val, y_val)\n",
    "plt.title(\"Confusion matrix for gradient boosting\")\n",
    "plt.grid(False)\n",
    "plt.show()\n",
    "\n",
    "try:\n",
    "    scores_df.at[modelname, \"Score\"] = acc_gbk\n",
    "except:\n",
    "    scores_df = scores_df.append({index: modelname, \"Score\": acc_gbk})"
   ]
  },
  {
   "cell_type": "markdown",
   "metadata": {},
   "source": [
    "## K Nearest Neighbors"
   ]
  },
  {
   "cell_type": "code",
   "execution_count": null,
   "metadata": {
    "tags": []
   },
   "outputs": [],
   "source": [
    "# # KNN or k-Nearest Neighbors\n",
    "# modelname = \"K-nearest neighbors\"\n",
    "# knn = KNeighborsClassifier()\n",
    "# knn.fit(X_train, y_train)\n",
    "# y_pred = knn.predict(X_val)\n",
    "# acc_knn = round(accuracy_score(y_pred, y_val) * 100, 2)\n",
    "# print(acc_knn)\n",
    "\n",
    "# # create confusion matrix\n",
    "# metrics.plot_confusion_matrix(knn, X_val, y_val)\n",
    "# plt.title(\"Confusion matrix for k Nearest neighbors\")\n",
    "# plt.grid(False)\n",
    "# plt.show()\n",
    "\n",
    "# try:\n",
    "#     scores_df.at[modelname, \"Score\"] = acc_knn\n",
    "# except:\n",
    "#     scores_df = scores_df.append({index: modelname, \"Score\": acc_knn})"
   ]
  },
  {
   "cell_type": "markdown",
   "metadata": {},
   "source": [
    "## Light Gradient Boosting"
   ]
  },
  {
   "cell_type": "code",
   "execution_count": null,
   "metadata": {},
   "outputs": [],
   "source": [
    "## lgb\n",
    "modelname = \"Light Gradient Boosting\"\n",
    "lgbmmodel = LGBMClassifier()\n",
    "lgbmmodel.fit(X_train, y_train)\n",
    "y_pred = lgbmmodel.predict(X_val)\n",
    "acc_lgbmmodel = round(accuracy_score(y_pred, y_val) * 100, 2)\n",
    "print(acc_lgbmmodel)\n",
    "\n",
    "# create confusion matrix\n",
    "metrics.plot_confusion_matrix(lgbmmodel, X_val, y_val)\n",
    "plt.title(\"Confusion matrix for light gradient boosting\")\n",
    "plt.grid(False)\n",
    "plt.show()\n",
    "\n",
    "try:\n",
    "    scores_df.at[modelname, \"Score\"] = acc_lgbmmodel\n",
    "except:\n",
    "    scores_df = scores_df.append({index: modelname, \"Score\": acc_lgbmmodel})"
   ]
  },
  {
   "cell_type": "markdown",
   "metadata": {
    "execution": {
     "iopub.execute_input": "2021-10-08T03:00:35.94378Z",
     "iopub.status.busy": "2021-10-08T03:00:35.943166Z",
     "iopub.status.idle": "2021-10-08T03:00:35.947751Z",
     "shell.execute_reply": "2021-10-08T03:00:35.946766Z",
     "shell.execute_reply.started": "2021-10-08T03:00:35.943747Z"
    }
   },
   "source": [
    "## Linear Discriminant Analysis"
   ]
  },
  {
   "cell_type": "code",
   "execution_count": 9,
   "metadata": {
    "execution": {
     "iopub.execute_input": "2021-11-10T16:41:20.294174Z",
     "iopub.status.busy": "2021-11-10T16:41:20.293817Z",
     "iopub.status.idle": "2021-11-10T16:41:29.865805Z",
     "shell.execute_reply": "2021-11-10T16:41:29.864824Z",
     "shell.execute_reply.started": "2021-11-10T16:41:20.294132Z"
    }
   },
   "outputs": [
    {
     "name": "stdout",
     "output_type": "stream",
     "text": [
      "73.77\n"
     ]
    },
    {
     "data": {
      "image/png": "[encoded data removed]",
      "text/plain": [
       "<Figure size 432x288 with 2 Axes>"
      ]
     },
     "metadata": {
      "needs_background": "light"
     },
     "output_type": "display_data"
    }
   ],
   "source": [
    "## Linear discriminant\n",
    "modelname = \"Linear discriminant\"\n",
    "linear_da = LinearDiscriminantAnalysis()\n",
    "linear_da.fit(X_train, y_train)\n",
    "y_pred = linear_da.predict(X_val)\n",
    "acc_linear_da = round(accuracy_score(y_pred, y_val) * 100, 2)\n",
    "print(acc_linear_da)\n",
    "\n",
    "# create confusion matrix\n",
    "metrics.plot_confusion_matrix(linear_da, X_val, y_val)\n",
    "plt.title(\"Confusion matrix for Linear Discriminant Analysis\")\n",
    "plt.grid(False)\n",
    "plt.show()\n",
    "\n",
    "try:\n",
    "    scores_df.at[modelname, \"Score\"] = acc_linear_da\n",
    "except:\n",
    "    scores_df = scores_df.append({index: modelname, \"Score\": acc_linear_da})"
   ]
  },
  {
   "cell_type": "markdown",
   "metadata": {},
   "source": [
    "## LinearSVC"
   ]
  },
  {
   "cell_type": "code",
   "execution_count": null,
   "metadata": {},
   "outputs": [],
   "source": [
    "# # Linear SVC\n",
    "# modelname = \"Linear SVC\"\n",
    "# linear_svc = LinearSVC()\n",
    "# linear_svc.fit(X_train, y_train)\n",
    "# y_pred = linear_svc.predict(X_val)\n",
    "# acc_linear_svc = round(accuracy_score(y_pred, y_val) * 100, 2)\n",
    "# print(acc_linear_svc)\n",
    "\n",
    "# # create confusion matrix\n",
    "# metrics.plot_confusion_matrix(linear_svc, X_val, y_val)\n",
    "# plt.title(\"Confusion matrix for Linear svc\")\n",
    "# plt.grid(False)\n",
    "# plt.show()\n",
    "\n",
    "# try:\n",
    "#     scores_df.at[modelname, \"Score\"] = acc_linear_svc\n",
    "# except:\n",
    "#     scores_df = scores_df.append({index: modelname, \"Score\": acc_linear_svc})"
   ]
  },
  {
   "cell_type": "markdown",
   "metadata": {},
   "source": [
    "## Logistic Regression"
   ]
  },
  {
   "cell_type": "code",
   "execution_count": 12,
   "metadata": {
    "execution": {
     "iopub.execute_input": "2021-11-10T16:43:26.937882Z",
     "iopub.status.busy": "2021-11-10T16:43:26.937537Z",
     "iopub.status.idle": "2021-11-10T16:43:28.348976Z",
     "shell.execute_reply": "2021-11-10T16:43:28.348107Z",
     "shell.execute_reply.started": "2021-11-10T16:43:26.937843Z"
    },
    "tags": []
   },
   "outputs": [
    {
     "name": "stdout",
     "output_type": "stream",
     "text": [
      "50.77\n"
     ]
    },
    {
     "data": {
      "image/png": "[encoded data removed]",
      "text/plain": [
       "<Figure size 432x288 with 2 Axes>"
      ]
     },
     "metadata": {
      "needs_background": "light"
     },
     "output_type": "display_data"
    }
   ],
   "source": [
    "# Logistic Regression\n",
    "modelname = \"Logistic Regression\"\n",
    "logreg = LogisticRegression()\n",
    "logreg.fit(X_train, y_train)\n",
    "y_pred = logreg.predict(X_val)\n",
    "acc_logreg = round(accuracy_score(y_pred, y_val) * 100, 2)\n",
    "print(acc_logreg)\n",
    "\n",
    "# create confusion matrix\n",
    "metrics.plot_confusion_matrix(logreg, X_val, y_val)\n",
    "plt.title(\"Confusion matrix for Logistic Regression\")\n",
    "plt.grid(False)\n",
    "plt.show()\n",
    "\n",
    "try:\n",
    "    scores_df.at[modelname, \"Score\"] = acc_logreg\n",
    "except:\n",
    "    scores_df = scores_df.append({index: modelname, \"Score\": acc_logreg})"
   ]
  },
  {
   "cell_type": "markdown",
   "metadata": {},
   "source": [
    "## MLP"
   ]
  },
  {
   "cell_type": "code",
   "execution_count": null,
   "metadata": {
    "tags": []
   },
   "outputs": [],
   "source": [
    "# ## MLP\n",
    "# modelname = \"MLP\"\n",
    "# MLP = MLPClassifier()\n",
    "# MLP.fit(X_train, y_train)\n",
    "# y_pred = MLP.predict(X_val)\n",
    "# acc_MLP = round(accuracy_score(y_pred, y_val) * 100, 2)\n",
    "# print(acc_MLP)\n",
    "\n",
    "# # create confusion matrix\n",
    "# metrics.plot_confusion_matrix(MLP, X_val, y_val)\n",
    "# plt.title(\"Confusion matrix for MLP\")\n",
    "# plt.grid(False)\n",
    "# plt.show()\n",
    "\n",
    "# try:\n",
    "#     scores_df.at[modelname, \"Score\"] = acc_MLP\n",
    "# except:\n",
    "#     scores_df = scores_df.append({index: modelname, \"Score\": acc_MLP})"
   ]
  },
  {
   "cell_type": "markdown",
   "metadata": {},
   "source": [
    "## Passive Aggressive"
   ]
  },
  {
   "cell_type": "code",
   "execution_count": null,
   "metadata": {
    "tags": []
   },
   "outputs": [],
   "source": [
    "# ## passive aggressive\n",
    "# modelname = \"Passive Aggressive\"\n",
    "# passiveaggressive = PassiveAggressiveClassifier()\n",
    "# passiveaggressive.fit(X_train, y_train)\n",
    "# y_pred = passiveaggressive.predict(X_val)\n",
    "# acc_passiveaggressive = round(accuracy_score(y_pred, y_val) * 100, 2)\n",
    "# print(acc_passiveaggressive)\n",
    "\n",
    "# # create confusion matrix\n",
    "# metrics.plot_confusion_matrix(passiveaggressive, X_val, y_val)\n",
    "# plt.title(\"Confusion matrix for Passive Aggressive\")\n",
    "# plt.grid(False)\n",
    "# plt.show()\n",
    "\n",
    "# try:\n",
    "#     scores_df.at[modelname, \"Score\"] = acc_passiveaggressive\n",
    "# except:\n",
    "#     scores_df = scores_df.append(\n",
    "#         {index: modelname, \"Score\": acc_passiveaggressive}\n",
    "#     )"
   ]
  },
  {
   "cell_type": "markdown",
   "metadata": {},
   "source": [
    "## Perceptron"
   ]
  },
  {
   "cell_type": "code",
   "execution_count": null,
   "metadata": {
    "tags": []
   },
   "outputs": [],
   "source": [
    "# # Perceptron\n",
    "# modelname = \"Perceptron\"\n",
    "# perceptron = Perceptron()\n",
    "# perceptron.fit(X_train, y_train)\n",
    "# y_pred = perceptron.predict(X_val)\n",
    "# acc_perceptron = round(accuracy_score(y_pred, y_val) * 100, 2)\n",
    "# print(acc_perceptron)\n",
    "\n",
    "# # create confusion matrix\n",
    "# metrics.plot_confusion_matrix(perceptron, X_val, y_val)\n",
    "# plt.title(\"Confusion matrix for Perceptron\")\n",
    "# plt.grid(False)\n",
    "# plt.show()\n",
    "\n",
    "# try:\n",
    "#     scores_df.at[modelname, \"Score\"] = acc_perceptron\n",
    "# except:\n",
    "#     scores_df = scores_df.append({index: modelname, \"Score\": acc_perceptron})"
   ]
  },
  {
   "cell_type": "markdown",
   "metadata": {},
   "source": [
    "## Random Forest"
   ]
  },
  {
   "cell_type": "code",
   "execution_count": null,
   "metadata": {},
   "outputs": [],
   "source": [
    "# Random Forest\n",
    "modelname = \"Random Forest\"\n",
    "randomforest = RandomForestClassifier(random_state=0)\n",
    "randomforest.fit(X_train, y_train)\n",
    "y_pred = randomforest.predict(X_val)\n",
    "acc_randomforest = round(accuracy_score(y_pred, y_val) * 100, 2)\n",
    "print(acc_randomforest)\n",
    "\n",
    "# create confusion matrix\n",
    "metrics.plot_confusion_matrix(randomforest, X_val, y_val)\n",
    "plt.title(\"Confusion matrix for Random Forest\")\n",
    "plt.grid(False)\n",
    "plt.show()\n",
    "\n",
    "try:\n",
    "    scores_df.at[modelname, \"Score\"] = acc_randomforest\n",
    "except:\n",
    "    scores_df = scores_df.append({index: modelname, \"Score\": acc_randomforest})"
   ]
  },
  {
   "cell_type": "markdown",
   "metadata": {},
   "source": [
    "## Ridge Classifier¶"
   ]
  },
  {
   "cell_type": "code",
   "execution_count": null,
   "metadata": {
    "tags": []
   },
   "outputs": [],
   "source": [
    "# ## ridge\n",
    "# modelname = \"Ridge\"\n",
    "# ridge = RidgeClassifierCV()\n",
    "# ridge.fit(X_train, y_train)\n",
    "# y_pred = ridge.predict(X_val)\n",
    "# acc_ridge = round(accuracy_score(y_pred, y_val) * 100, 2)\n",
    "# print(acc_ridge)\n",
    "\n",
    "# # create confusion matrix\n",
    "# metrics.plot_confusion_matrix(ridge, X_val, y_val)\n",
    "# plt.title(\"Confusion matrix for Ridge\")\n",
    "# plt.grid(False)\n",
    "# plt.show()\n",
    "\n",
    "# try:\n",
    "#     scores_df.at[modelname, \"Score\"] = acc_ridge\n",
    "# except:\n",
    "#     scores_df = scores_df.append({index: modelname, \"Score\": acc_ridge})"
   ]
  },
  {
   "cell_type": "markdown",
   "metadata": {},
   "source": [
    "## Stochastic Gradient Descent¶"
   ]
  },
  {
   "cell_type": "code",
   "execution_count": null,
   "metadata": {
    "tags": []
   },
   "outputs": [],
   "source": [
    "# # Stochastic Gradient Descent\n",
    "# modelname = \"Stochastic Gradient Descent\"\n",
    "# sgd = SGDClassifier()\n",
    "# sgd.fit(X_train, y_train)\n",
    "# y_pred = sgd.predict(X_val)\n",
    "# acc_sgd = round(accuracy_score(y_pred, y_val) * 100, 2)\n",
    "# print(acc_sgd)\n",
    "\n",
    "# # create confusion matrix\n",
    "# metrics.plot_confusion_matrix(sgd, X_val, y_val)\n",
    "# plt.title(\"Confusion matrix for Stochastic Gradient Descent\")\n",
    "# plt.grid(False)\n",
    "# plt.show()\n",
    "\n",
    "# try:\n",
    "#     scores_df.at[modelname, \"Score\"] = acc_sgd\n",
    "# except:\n",
    "#     scores_df = scores_df.append({index: modelname, \"Score\": acc_sgd})"
   ]
  },
  {
   "cell_type": "markdown",
   "metadata": {},
   "source": [
    "## Support Vector Machines"
   ]
  },
  {
   "cell_type": "code",
   "execution_count": null,
   "metadata": {},
   "outputs": [],
   "source": [
    "# # instantiate model\n",
    "# modelname = \"Support Vector Machines\"\n",
    "# svc = SVC()\n",
    "# svc.fit(X_train, y_train)\n",
    "# y_pred = svc.predict(X_val)\n",
    "# acc_svc = round(accuracy_score(y_pred, y_val) * 100, 2)\n",
    "# print(acc_svc)\n",
    "\n",
    "# # create confusion matrix\n",
    "# metrics.plot_confusion_matrix(svc, X_val, y_val)\n",
    "# plt.title(\"Confusion matrix for Support Vector Machines\")\n",
    "# plt.grid(False)\n",
    "# plt.show()\n",
    "\n",
    "# try:\n",
    "#     scores_df.at[modelname, \"Score\"] = acc_svc\n",
    "# except:\n",
    "#     scores_df = scores_df.append({index: modelname, \"Score\": acc_svc})"
   ]
  },
  {
   "cell_type": "markdown",
   "metadata": {},
   "source": [
    "## xgboost"
   ]
  },
  {
   "cell_type": "code",
   "execution_count": null,
   "metadata": {
    "tags": []
   },
   "outputs": [],
   "source": [
    "# xgboost\n",
    "modelname = \"XGBoost\"\n",
    "xgb = XGBClassifier(n_estimators=10)\n",
    "xgb.fit(X_train, y_train)\n",
    "y_pred = xgb.predict(X_val)\n",
    "acc_xgb = round(accuracy_score(y_pred, y_val) * 100, 2)\n",
    "print(acc_xgb)\n",
    "\n",
    "# create confusion matrix\n",
    "metrics.plot_confusion_matrix(xgb, X_val, y_val)\n",
    "plt.title(\"Confusion matrix for XGBoost\")\n",
    "plt.grid(False)\n",
    "plt.show()\n",
    "\n",
    "try:\n",
    "    scores_df.at[modelname, \"Score\"] = acc_xgb\n",
    "except:\n",
    "    scores_df = scores_df.append({index: modelname, \"Score\": acc_xgb})"
   ]
  },
  {
   "cell_type": "code",
   "execution_count": null,
   "metadata": {},
   "outputs": [],
   "source": [
    "# print(cpu_stats())"
   ]
  },
  {
   "cell_type": "markdown",
   "metadata": {},
   "source": [
    "# Model Comparison"
   ]
  },
  {
   "cell_type": "code",
   "execution_count": null,
   "metadata": {
    "tags": []
   },
   "outputs": [],
   "source": [
    "# order and print model comparison\n",
    "scores_df = scores_df.sort_values(by=\"Score\", ascending=False)\n",
    "print(scores_df)\n",
    "\n",
    "# plot results\n",
    "x_pos = [i for i, _ in enumerate(scores_df.index)]\n",
    "plt.bar(x_pos, scores_df.Score)\n",
    "plt.xlabel(\"Model\")\n",
    "plt.ylabel(\"Score\")\n",
    "plt.title(\"Basic Model Comparison\")\n",
    "plt.xticks(x_pos, scores_df.index, rotation=\"vertical\")\n",
    "plt.show()\n",
    "\n",
    "scores_f = os.path.join(drive_path, f\"{scaler}_scores_{now()}.csv\")\n",
    "scaler = type(scaler).__name__\n",
    "\n",
    "scores_df.to_csv(os.path.join(scores_f))\n",
    "# print(\"Comparison saved as csv\")"
   ]
  },
  {
   "cell_type": "code",
   "execution_count": null,
   "metadata": {
    "tags": []
   },
   "outputs": [],
   "source": [
    "type(scaler).__name__"
   ]
  },
  {
   "cell_type": "markdown",
   "metadata": {},
   "source": [
    "## Observations on Model comparison\n",
    "\n",
    "We fitted and scored 20 models using the default perameters, we used only 15% of the available training data and we didn't use cross fold validation in any form. (The observations below were made based on the standard scaler).\n",
    "\n",
    "We used ROC AUC or Area Under the Receiver Operating Characteristic Curve to score the results. \n",
    "\n",
    "The ROC AUC scores fell into 2 groups clustered around 76 and 50. The Boosted classifiers generally produced the best results with Catboost coming top by a small margin. Ridge, Linear Discriminant Analysis and Random forest were also in the higher scoring model. Low scoring models included Gausian naive bayes, k nearest neighbour, linear svc, logistic regression, Stochastic Gradient Descent and passive aggressive models.\n",
    "\n",
    "Many of the models that scored only around 50% prediced almost all of their vales as 0, Stochastic Gradient Descent did the opoosite and predicting all 1's.\n",
    "\n",
    "If we take just features with higher correlations (+/-) 0.2 and run the same models agian, we get a range af ROC_AUC scores of between 49.95 and 55. The boosting models still perform best but this time only the Gaussian Naive Bayes predicts all 0's and the models at the lower end of the scale scored modertly better.\n",
    "\n",
    "If we take just the categorical features and run the same models we get a range af ROC_AUC scores of between 61.93 and 75.77 in fact 12 of the models produce a score of 75.77.  \n",
    "\n",
    "If we take just the continuous features and run the models we get a range of ROC_AUC scores of between 49.5 and 63.4, meaning that despite 85% of the features being contimuous on only 15% binary categogical features, the categorical features seem to produce better results than the continuous and the best categogical is only 1.5 benind the best result for all features. Once again boosters worked best.\n",
    "\n",
    "Moving forward to data engineering and parameter tuning it would be worth initially looking at the top 8 models all of which scored around 76. It would also be worth looking at the continuous data and seeing how it could be made to produce better results. \n",
    "\n",
    "Now that we know which models are the most likely candidates for tuning we could rerun those models with a higher split of the available training data. We could also filter the features and try just the categorical features or just the continuous features to see how that affects the results.\n"
   ]
  },
  {
   "cell_type": "markdown",
   "metadata": {},
   "source": [
    "## Credit were credits due\n",
    "\n",
    "First up thanks to the Kaggle team for the tireless work putting the tabular plaground together. Many thanks to the kaggle and stackoverflow communities and the folks that contitbutor to the various documents for the various python modules, without whom finding solutions to these problems would be so much rougher.\n",
    "\n",
    "I didn't copy any of the code in this notebook so there's no one to credit this time around, i did however copy the descriptions of each of the classifiers from the libraries online documentation pages so lots of credit to all the people that but in time to develop libraries/modules and thier supporting documents.\n",
    "\n",
    "If you found by notebook useful or you have comments please upvote / comment here."
   ]
  }
 ],
 "metadata": {
  "kernelspec": {
   "display_name": "Python [conda env:pmm]",
   "language": "python",
   "name": "conda-env-pmm-py"
  },
  "language_info": {
   "codemirror_mode": {
    "name": "ipython",
    "version": 3
   },
   "file_extension": ".py",
   "mimetype": "text/x-python",
   "name": "python",
   "nbconvert_exporter": "python",
   "pygments_lexer": "ipython3",
   "version": "3.7.10"
  }
 },
 "nbformat": 4,
 "nbformat_minor": 4
}
